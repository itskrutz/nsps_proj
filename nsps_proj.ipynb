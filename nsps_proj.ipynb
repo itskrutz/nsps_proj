{
  "nbformat": 4,
  "nbformat_minor": 0,
  "metadata": {
    "colab": {
      "provenance": [],
      "authorship_tag": "ABX9TyPzngMFHjFzU+fkEbaMEnin",
      "include_colab_link": true
    },
    "kernelspec": {
      "name": "python3",
      "display_name": "Python 3"
    },
    "language_info": {
      "name": "python"
    }
  },
  "cells": [
    {
      "cell_type": "markdown",
      "metadata": {
        "id": "view-in-github",
        "colab_type": "text"
      },
      "source": [
        "<a href=\"https://colab.research.google.com/github/itskrutz/nsps_proj/blob/main/nsps_proj.ipynb\" target=\"_parent\"><img src=\"https://colab.research.google.com/assets/colab-badge.svg\" alt=\"Open In Colab\"/></a>"
      ]
    },
    {
      "cell_type": "code",
      "execution_count": 1,
      "metadata": {
        "id": "1SR5aI1qOekU"
      },
      "outputs": [],
      "source": [
        "import pandas as pd\n",
        "from sklearn.ensemble import IsolationForest\n",
        "from sklearn.model_selection import train_test_split\n",
        "from sklearn.metrics import confusion_matrix, classification_report\n",
        "import matplotlib.pyplot as plt\n",
        "import seaborn as sns"
      ]
    },
    {
      "cell_type": "code",
      "source": [
        "TR=pd.read_csv(\"UNSW_NB15_training-set.csv\")"
      ],
      "metadata": {
        "id": "mUnTHV8yO0X3"
      },
      "execution_count": 2,
      "outputs": []
    },
    {
      "cell_type": "code",
      "source": [
        "print(TR.head())"
      ],
      "metadata": {
        "colab": {
          "base_uri": "https://localhost:8080/"
        },
        "id": "II6rnZFSQbH1",
        "outputId": "7b5eafd3-16bc-481d-a79b-7274a6bd4961"
      },
      "execution_count": 3,
      "outputs": [
        {
          "output_type": "stream",
          "name": "stdout",
          "text": [
            "   id       dur proto service state  spkts  dpkts  sbytes  dbytes  \\\n",
            "0   1  0.000011   udp       -   INT      2      0     496       0   \n",
            "1   2  0.000008   udp       -   INT      2      0    1762       0   \n",
            "2   3  0.000005   udp       -   INT      2      0    1068       0   \n",
            "3   4  0.000006   udp       -   INT      2      0     900       0   \n",
            "4   5  0.000010   udp       -   INT      2      0    2126       0   \n",
            "\n",
            "          rate  ...  ct_dst_sport_ltm  ct_dst_src_ltm  is_ftp_login  \\\n",
            "0   90909.0902  ...                 1               2             0   \n",
            "1  125000.0003  ...                 1               2             0   \n",
            "2  200000.0051  ...                 1               3             0   \n",
            "3  166666.6608  ...                 1               3             0   \n",
            "4  100000.0025  ...                 1               3             0   \n",
            "\n",
            "   ct_ftp_cmd  ct_flw_http_mthd  ct_src_ltm  ct_srv_dst  is_sm_ips_ports  \\\n",
            "0           0                 0           1           2                0   \n",
            "1           0                 0           1           2                0   \n",
            "2           0                 0           1           3                0   \n",
            "3           0                 0           2           3                0   \n",
            "4           0                 0           2           3                0   \n",
            "\n",
            "   attack_cat  label  \n",
            "0      Normal      0  \n",
            "1      Normal      0  \n",
            "2      Normal      0  \n",
            "3      Normal      0  \n",
            "4      Normal      0  \n",
            "\n",
            "[5 rows x 45 columns]\n"
          ]
        }
      ]
    },
    {
      "cell_type": "code",
      "source": [
        "print(TR.isnull().sum())"
      ],
      "metadata": {
        "colab": {
          "base_uri": "https://localhost:8080/"
        },
        "id": "2IdqpnlaQbWH",
        "outputId": "052f9930-6d0b-4f02-aa5c-65e248c84097"
      },
      "execution_count": 4,
      "outputs": [
        {
          "output_type": "stream",
          "name": "stdout",
          "text": [
            "id                   0\n",
            "dur                  0\n",
            "proto                0\n",
            "service              0\n",
            "state                0\n",
            "spkts                0\n",
            "dpkts                0\n",
            "sbytes               0\n",
            "dbytes               0\n",
            "rate                 0\n",
            "sttl                 0\n",
            "dttl                 0\n",
            "sload                0\n",
            "dload                0\n",
            "sloss                0\n",
            "dloss                0\n",
            "sinpkt               0\n",
            "dinpkt               0\n",
            "sjit                 0\n",
            "djit                 0\n",
            "swin                 0\n",
            "stcpb                0\n",
            "dtcpb                0\n",
            "dwin                 0\n",
            "tcprtt               0\n",
            "synack               0\n",
            "ackdat               0\n",
            "smean                0\n",
            "dmean                0\n",
            "trans_depth          0\n",
            "response_body_len    0\n",
            "ct_srv_src           0\n",
            "ct_state_ttl         0\n",
            "ct_dst_ltm           0\n",
            "ct_src_dport_ltm     0\n",
            "ct_dst_sport_ltm     0\n",
            "ct_dst_src_ltm       0\n",
            "is_ftp_login         0\n",
            "ct_ftp_cmd           0\n",
            "ct_flw_http_mthd     0\n",
            "ct_src_ltm           0\n",
            "ct_srv_dst           0\n",
            "is_sm_ips_ports      0\n",
            "attack_cat           0\n",
            "label                0\n",
            "dtype: int64\n"
          ]
        }
      ]
    },
    {
      "cell_type": "code",
      "source": [
        "\n",
        "sns.countplot(x=\"attack_cat\", data=TR)\n",
        "plt.show()\n",
        "\n",
        "# Frequency table\n",
        "TR[\"service\"].value_counts()\n",
        "\n"
      ],
      "metadata": {
        "colab": {
          "base_uri": "https://localhost:8080/",
          "height": 703
        },
        "id": "WV8-ElxGQbYz",
        "outputId": "99e301c2-f2ea-473a-9449-975cb003a3e6"
      },
      "execution_count": 5,
      "outputs": [
        {
          "output_type": "display_data",
          "data": {
            "text/plain": [
              "<Figure size 640x480 with 1 Axes>"
            ],
            "image/png": "[encoded data removed]"
          },
          "metadata": {}
        },
        {
          "output_type": "execute_result",
          "data": {
            "text/plain": [
              "-           47153\n",
              "dns         21367\n",
              "http         8287\n",
              "smtp         1851\n",
              "ftp          1552\n",
              "ftp-data     1396\n",
              "pop3          423\n",
              "ssh           204\n",
              "ssl            30\n",
              "snmp           29\n",
              "dhcp           26\n",
              "radius          9\n",
              "irc             5\n",
              "Name: service, dtype: int64"
            ]
          },
          "metadata": {},
          "execution_count": 5
        }
      ]
    },
    {
      "cell_type": "code",
      "source": [
        "TR[\"attack_cat\"].value_counts()"
      ],
      "metadata": {
        "colab": {
          "base_uri": "https://localhost:8080/"
        },
        "id": "HoLjiPn_Qbbv",
        "outputId": "6a40e3f3-cfbf-4e4b-cf0d-3c64e7052dcf"
      },
      "execution_count": 6,
      "outputs": [
        {
          "output_type": "execute_result",
          "data": {
            "text/plain": [
              "Normal            37000\n",
              "Generic           18871\n",
              "Exploits          11132\n",
              "Fuzzers            6062\n",
              "DoS                4089\n",
              "Reconnaissance     3496\n",
              "Analysis            677\n",
              "Backdoor            583\n",
              "Shellcode           378\n",
              "Worms                44\n",
              "Name: attack_cat, dtype: int64"
            ]
          },
          "metadata": {},
          "execution_count": 6
        }
      ]
    },
    {
      "cell_type": "code",
      "source": [
        "from sklearn.preprocessing import LabelEncoder"
      ],
      "metadata": {
        "id": "Q4-lpyuiQbeS"
      },
      "execution_count": 7,
      "outputs": []
    },
    {
      "cell_type": "code",
      "source": [
        "le = LabelEncoder()\n",
        "# Assuming your nominal feature is in a column named 'feature_name'\n",
        "arr = ['proto','service','state']\n",
        "for i in arr:\n",
        "  le.fit(TR[i])\n",
        "  TR[i] = le.transform(TR[i])"
      ],
      "metadata": {
        "id": "V40M30gkQbhO"
      },
      "execution_count": 8,
      "outputs": []
    },
    {
      "cell_type": "code",
      "source": [
        "print(TR['proto'])"
      ],
      "metadata": {
        "colab": {
          "base_uri": "https://localhost:8080/"
        },
        "id": "WGGCWFnxQbkY",
        "outputId": "ac77cef9-9b91-4099-b842-6b1c749aa99f"
      },
      "execution_count": 9,
      "outputs": [
        {
          "output_type": "stream",
          "name": "stdout",
          "text": [
            "0        117\n",
            "1        117\n",
            "2        117\n",
            "3        117\n",
            "4        117\n",
            "        ... \n",
            "82327    117\n",
            "82328    111\n",
            "82329      6\n",
            "82330      6\n",
            "82331    117\n",
            "Name: proto, Length: 82332, dtype: int64\n"
          ]
        }
      ]
    },
    {
      "cell_type": "code",
      "source": [
        "print(TR.head())"
      ],
      "metadata": {
        "colab": {
          "base_uri": "https://localhost:8080/"
        },
        "id": "RnHYaM5WQbm7",
        "outputId": "6ba3a310-7edd-40dd-ab40-fb711a0d5b65"
      },
      "execution_count": 10,
      "outputs": [
        {
          "output_type": "stream",
          "name": "stdout",
          "text": [
            "   id       dur  proto  service  state  spkts  dpkts  sbytes  dbytes  \\\n",
            "0   1  0.000011    117        0      4      2      0     496       0   \n",
            "1   2  0.000008    117        0      4      2      0    1762       0   \n",
            "2   3  0.000005    117        0      4      2      0    1068       0   \n",
            "3   4  0.000006    117        0      4      2      0     900       0   \n",
            "4   5  0.000010    117        0      4      2      0    2126       0   \n",
            "\n",
            "          rate  ...  ct_dst_sport_ltm  ct_dst_src_ltm  is_ftp_login  \\\n",
            "0   90909.0902  ...                 1               2             0   \n",
            "1  125000.0003  ...                 1               2             0   \n",
            "2  200000.0051  ...                 1               3             0   \n",
            "3  166666.6608  ...                 1               3             0   \n",
            "4  100000.0025  ...                 1               3             0   \n",
            "\n",
            "   ct_ftp_cmd  ct_flw_http_mthd  ct_src_ltm  ct_srv_dst  is_sm_ips_ports  \\\n",
            "0           0                 0           1           2                0   \n",
            "1           0                 0           1           2                0   \n",
            "2           0                 0           1           3                0   \n",
            "3           0                 0           2           3                0   \n",
            "4           0                 0           2           3                0   \n",
            "\n",
            "   attack_cat  label  \n",
            "0      Normal      0  \n",
            "1      Normal      0  \n",
            "2      Normal      0  \n",
            "3      Normal      0  \n",
            "4      Normal      0  \n",
            "\n",
            "[5 rows x 45 columns]\n"
          ]
        }
      ]
    },
    {
      "cell_type": "code",
      "source": [
        "TR['proto'].unique()"
      ],
      "metadata": {
        "colab": {
          "base_uri": "https://localhost:8080/"
        },
        "id": "J7Y9QiatQbp_",
        "outputId": "f9350a90-393c-4bbc-d31c-da22941b2147"
      },
      "execution_count": 11,
      "outputs": [
        {
          "output_type": "execute_result",
          "data": {
            "text/plain": [
              "array([117,   6, 111,  41,  77,  95,  32,  30,  44,  49, 106,   4,  13,\n",
              "        23,  25,  76,  85, 127,  72,  19,  33,  83, 114, 115, 128,  64,\n",
              "        65,  57,  88,  74,  67,  66,   0,  37,  20,  38, 113,  51,  96,\n",
              "        52,  55,  39,  68,  34,  90,  70,  73,  99, 112,  53,   3,  54,\n",
              "        12,  91,  50,  61,  92,  16, 126,  86,  10, 108, 125, 122, 116,\n",
              "       120,  75,  22,  24, 110, 103,  63,  71,   7,  47,   2,  69,  26,\n",
              "        82,  31,  40,  81,  87,  94,  11,   8,  42,   9, 109, 121,  46,\n",
              "        15,  60, 124,  98,  97, 129,  43,  89, 118,  28,  59,  27,  79,\n",
              "         5,   1,  45, 102,  14,  56,  78, 123,  62, 130,  21,  35, 107,\n",
              "       105, 119, 100, 101,  58,  84,  29,  17,  18,  93,  48,  80, 104,\n",
              "        36])"
            ]
          },
          "metadata": {},
          "execution_count": 11
        }
      ]
    },
    {
      "cell_type": "code",
      "source": [
        "TR['service'].unique()"
      ],
      "metadata": {
        "colab": {
          "base_uri": "https://localhost:8080/"
        },
        "id": "TEEVkBzFQbs0",
        "outputId": "be4ca0c6-501d-4f1e-8f4e-52a4b18c14e1"
      },
      "execution_count": 12,
      "outputs": [
        {
          "output_type": "execute_result",
          "data": {
            "text/plain": [
              "array([ 0,  5,  3,  4,  9,  7,  2, 10, 12,  1,  6,  8, 11])"
            ]
          },
          "metadata": {},
          "execution_count": 12
        }
      ]
    },
    {
      "cell_type": "code",
      "source": [
        "TR['state'].unique()"
      ],
      "metadata": {
        "colab": {
          "base_uri": "https://localhost:8080/"
        },
        "id": "AJ_369zMQbvm",
        "outputId": "95dfbfbf-fe40-4e60-9f56-98f15917e76d"
      },
      "execution_count": 13,
      "outputs": [
        {
          "output_type": "execute_result",
          "data": {
            "text/plain": [
              "array([4, 3, 5, 0, 2, 6, 1])"
            ]
          },
          "metadata": {},
          "execution_count": 13
        }
      ]
    },
    {
      "cell_type": "code",
      "source": [
        "from sklearn.preprocessing import MinMaxScaler, StandardScaler"
      ],
      "metadata": {
        "id": "Twks8qcbQbyU"
      },
      "execution_count": 14,
      "outputs": []
    },
    {
      "cell_type": "code",
      "source": [
        "df = pd.DataFrame(TR, columns=['spkts','dpkts','sbytes','dbytes','rate','sttl','dttl','sload','dload','sloss','dloss','sinpkt','dinpkt','sjit','djit','swin','stcpb','dtcpb','dwin','tcprtt','synack','ackdat','smean','dmean','trans_depth','response_body_len','ct_srv_src','ct_state_ttl','ct_dst_ltm','ct_src_dport_ltm','ct_dst_sport_ltm','ct_dst_src_ltm','is_ftp_login','ct_ftp_cmd','ct_flw_http_mthd','ct_src_ltm','ct_srv_dst','is_sm_ips_ports'])\n",
        "\n",
        "scaler = MinMaxScaler()\n",
        "df_scaled = scaler.fit_transform(df)\n",
        "print(df_scaled)\n"
      ],
      "metadata": {
        "colab": {
          "base_uri": "https://localhost:8080/"
        },
        "id": "Z-cZNACMQb1J",
        "outputId": "0afc258a-567b-4b43-ab27-a78aa960f529"
      },
      "execution_count": 15,
      "outputs": [
        {
          "output_type": "stream",
          "name": "stdout",
          "text": [
            "[[9.39408173e-05 0.00000000e+00 3.28788116e-05 ... 0.00000000e+00\n",
            "  1.63934426e-02 0.00000000e+00]\n",
            " [9.39408173e-05 0.00000000e+00 1.21066472e-04 ... 0.00000000e+00\n",
            "  1.63934426e-02 0.00000000e+00]\n",
            " [9.39408173e-05 0.00000000e+00 7.27234732e-05 ... 0.00000000e+00\n",
            "  3.27868852e-02 0.00000000e+00]\n",
            " ...\n",
            " [0.00000000e+00 0.00000000e+00 1.53248698e-06 ... 0.00000000e+00\n",
            "  0.00000000e+00 1.00000000e+00]\n",
            " [0.00000000e+00 0.00000000e+00 1.53248698e-06 ... 0.00000000e+00\n",
            "  0.00000000e+00 1.00000000e+00]\n",
            " [9.39408173e-05 0.00000000e+00 5.57267994e-06 ... 0.00000000e+00\n",
            "  0.00000000e+00 0.00000000e+00]]\n"
          ]
        }
      ]
    },
    {
      "cell_type": "code",
      "source": [
        "df = pd.DataFrame(df_scaled, columns=df.columns)  # Create a new DataFrame\n"
      ],
      "metadata": {
        "id": "bHL2v0uqO3cA"
      },
      "execution_count": 16,
      "outputs": []
    },
    {
      "cell_type": "code",
      "source": [
        "print(df)"
      ],
      "metadata": {
        "colab": {
          "base_uri": "https://localhost:8080/"
        },
        "id": "P9QRHB-l0pDZ",
        "outputId": "9b0e6b26-830b-4143-d7b6-d5bd7b162499"
      },
      "execution_count": 17,
      "outputs": [
        {
          "output_type": "stream",
          "name": "stdout",
          "text": [
            "          spkts     dpkts    sbytes    dbytes      rate      sttl      dttl  \\\n",
            "0      0.000094  0.000000  0.000033  0.000000  0.090909  0.996078  0.000000   \n",
            "1      0.000094  0.000000  0.000121  0.000000  0.125000  0.996078  0.000000   \n",
            "2      0.000094  0.000000  0.000073  0.000000  0.200000  0.996078  0.000000   \n",
            "3      0.000094  0.000000  0.000061  0.000000  0.166667  0.996078  0.000000   \n",
            "4      0.000094  0.000000  0.000146  0.000000  0.100000  0.996078  0.000000   \n",
            "...         ...       ...       ...       ...       ...       ...       ...   \n",
            "82327  0.000094  0.000000  0.000006  0.000000  0.200000  0.996078  0.000000   \n",
            "82328  0.001785  0.000726  0.001257  0.000024  0.000024  0.996078  0.996047   \n",
            "82329  0.000000  0.000000  0.000002  0.000000  0.000000  0.000000  0.000000   \n",
            "82330  0.000000  0.000000  0.000002  0.000000  0.000000  0.000000  0.000000   \n",
            "82331  0.000094  0.000000  0.000006  0.000000  0.111111  0.996078  0.000000   \n",
            "\n",
            "          sload     dload     sloss  ...  ct_dst_ltm  ct_src_dport_ltm  \\\n",
            "0      0.034238  0.000000  0.000000  ...    0.000000          0.000000   \n",
            "1      0.167236  0.000000  0.000000  ...    0.000000          0.000000   \n",
            "2      0.162187  0.000000  0.000000  ...    0.000000          0.000000   \n",
            "3      0.113895  0.000000  0.000000  ...    0.017241          0.017241   \n",
            "4      0.161427  0.000000  0.000000  ...    0.017241          0.017241   \n",
            "...         ...       ...       ...  ...         ...               ...   \n",
            "82327  0.015793  0.000000  0.000000  ...    0.017241          0.000000   \n",
            "82328  0.000024  0.000108  0.001316  ...    0.017241          0.000000   \n",
            "82329  0.000000  0.000000  0.000000  ...    0.000000          0.000000   \n",
            "82330  0.000000  0.000000  0.000000  ...    0.000000          0.000000   \n",
            "82331  0.008774  0.000000  0.000000  ...    0.000000          0.000000   \n",
            "\n",
            "       ct_dst_sport_ltm  ct_dst_src_ltm  is_ftp_login  ct_ftp_cmd  \\\n",
            "0                   0.0        0.016129           0.0         0.0   \n",
            "1                   0.0        0.016129           0.0         0.0   \n",
            "2                   0.0        0.032258           0.0         0.0   \n",
            "3                   0.0        0.032258           0.0         0.0   \n",
            "4                   0.0        0.032258           0.0         0.0   \n",
            "...                 ...             ...           ...         ...   \n",
            "82327               0.0        0.016129           0.0         0.0   \n",
            "82328               0.0        0.000000           0.0         0.0   \n",
            "82329               0.0        0.000000           0.0         0.0   \n",
            "82330               0.0        0.000000           0.0         0.0   \n",
            "82331               0.0        0.000000           0.0         0.0   \n",
            "\n",
            "       ct_flw_http_mthd  ct_src_ltm  ct_srv_dst  is_sm_ips_ports  \n",
            "0                   0.0    0.000000    0.016393              0.0  \n",
            "1                   0.0    0.000000    0.016393              0.0  \n",
            "2                   0.0    0.000000    0.032787              0.0  \n",
            "3                   0.0    0.016949    0.032787              0.0  \n",
            "4                   0.0    0.016949    0.032787              0.0  \n",
            "...                 ...         ...         ...              ...  \n",
            "82327               0.0    0.016949    0.000000              0.0  \n",
            "82328               0.0    0.033898    0.016393              0.0  \n",
            "82329               0.0    0.000000    0.000000              1.0  \n",
            "82330               0.0    0.000000    0.000000              1.0  \n",
            "82331               0.0    0.000000    0.000000              0.0  \n",
            "\n",
            "[82332 rows x 38 columns]\n"
          ]
        }
      ]
    },
    {
      "cell_type": "code",
      "source": [
        "df = df.assign(dur=TR['dur'], proto=TR['proto'],service=TR['service'], state=TR['state'],label=TR['label'], attack_cat=TR['attack_cat'])\n"
      ],
      "metadata": {
        "id": "4VXfjfrT0pFx"
      },
      "execution_count": 18,
      "outputs": []
    },
    {
      "cell_type": "code",
      "source": [
        "df"
      ],
      "metadata": {
        "colab": {
          "base_uri": "https://localhost:8080/",
          "height": 443
        },
        "id": "-TFe-IxI0pIl",
        "outputId": "a2e327de-b16a-4e69-9692-eba372956b45"
      },
      "execution_count": 19,
      "outputs": [
        {
          "output_type": "execute_result",
          "data": {
            "text/plain": [
              "          spkts     dpkts    sbytes    dbytes      rate      sttl      dttl  \\\n",
              "0      0.000094  0.000000  0.000033  0.000000  0.090909  0.996078  0.000000   \n",
              "1      0.000094  0.000000  0.000121  0.000000  0.125000  0.996078  0.000000   \n",
              "2      0.000094  0.000000  0.000073  0.000000  0.200000  0.996078  0.000000   \n",
              "3      0.000094  0.000000  0.000061  0.000000  0.166667  0.996078  0.000000   \n",
              "4      0.000094  0.000000  0.000146  0.000000  0.100000  0.996078  0.000000   \n",
              "...         ...       ...       ...       ...       ...       ...       ...   \n",
              "82327  0.000094  0.000000  0.000006  0.000000  0.200000  0.996078  0.000000   \n",
              "82328  0.001785  0.000726  0.001257  0.000024  0.000024  0.996078  0.996047   \n",
              "82329  0.000000  0.000000  0.000002  0.000000  0.000000  0.000000  0.000000   \n",
              "82330  0.000000  0.000000  0.000002  0.000000  0.000000  0.000000  0.000000   \n",
              "82331  0.000094  0.000000  0.000006  0.000000  0.111111  0.996078  0.000000   \n",
              "\n",
              "          sload     dload     sloss  ...  ct_flw_http_mthd  ct_src_ltm  \\\n",
              "0      0.034238  0.000000  0.000000  ...               0.0    0.000000   \n",
              "1      0.167236  0.000000  0.000000  ...               0.0    0.000000   \n",
              "2      0.162187  0.000000  0.000000  ...               0.0    0.000000   \n",
              "3      0.113895  0.000000  0.000000  ...               0.0    0.016949   \n",
              "4      0.161427  0.000000  0.000000  ...               0.0    0.016949   \n",
              "...         ...       ...       ...  ...               ...         ...   \n",
              "82327  0.015793  0.000000  0.000000  ...               0.0    0.016949   \n",
              "82328  0.000024  0.000108  0.001316  ...               0.0    0.033898   \n",
              "82329  0.000000  0.000000  0.000000  ...               0.0    0.000000   \n",
              "82330  0.000000  0.000000  0.000000  ...               0.0    0.000000   \n",
              "82331  0.008774  0.000000  0.000000  ...               0.0    0.000000   \n",
              "\n",
              "       ct_srv_dst  is_sm_ips_ports       dur  proto  service  state  label  \\\n",
              "0        0.016393              0.0  0.000011    117        0      4      0   \n",
              "1        0.016393              0.0  0.000008    117        0      4      0   \n",
              "2        0.032787              0.0  0.000005    117        0      4      0   \n",
              "3        0.032787              0.0  0.000006    117        0      4      0   \n",
              "4        0.032787              0.0  0.000010    117        0      4      0   \n",
              "...           ...              ...       ...    ...      ...    ...    ...   \n",
              "82327    0.000000              0.0  0.000005    117        0      4      0   \n",
              "82328    0.016393              0.0  1.106101    111        0      3      0   \n",
              "82329    0.000000              1.0  0.000000      6        0      4      0   \n",
              "82330    0.000000              1.0  0.000000      6        0      4      0   \n",
              "82331    0.000000              0.0  0.000009    117        0      4      0   \n",
              "\n",
              "       attack_cat  \n",
              "0          Normal  \n",
              "1          Normal  \n",
              "2          Normal  \n",
              "3          Normal  \n",
              "4          Normal  \n",
              "...           ...  \n",
              "82327      Normal  \n",
              "82328      Normal  \n",
              "82329      Normal  \n",
              "82330      Normal  \n",
              "82331      Normal  \n",
              "\n",
              "[82332 rows x 44 columns]"
            ],
            "text/html": [
              "\n",
              "  <div id=\"df-0fed0261-55cd-41ae-b077-0aea9a2825da\" class=\"colab-df-container\">\n",
              "    <div>\n",
              "<style scoped>\n",
              "    .dataframe tbody tr th:only-of-type {\n",
              "        vertical-align: middle;\n",
              "    }\n",
              "\n",
              "    .dataframe tbody tr th {\n",
              "        vertical-align: top;\n",
              "    }\n",
              "\n",
              "    .dataframe thead th {\n",
              "        text-align: right;\n",
              "    }\n",
              "</style>\n",
              "<table border=\"1\" class=\"dataframe\">\n",
              "  <thead>\n",
              "    <tr style=\"text-align: right;\">\n",
              "      <th></th>\n",
              "      <th>spkts</th>\n",
              "      <th>dpkts</th>\n",
              "      <th>sbytes</th>\n",
              "      <th>dbytes</th>\n",
              "      <th>rate</th>\n",
              "      <th>sttl</th>\n",
              "      <th>dttl</th>\n",
              "      <th>sload</th>\n",
              "      <th>dload</th>\n",
              "      <th>sloss</th>\n",
              "      <th>...</th>\n",
              "      <th>ct_flw_http_mthd</th>\n",
              "      <th>ct_src_ltm</th>\n",
              "      <th>ct_srv_dst</th>\n",
              "      <th>is_sm_ips_ports</th>\n",
              "      <th>dur</th>\n",
              "      <th>proto</th>\n",
              "      <th>service</th>\n",
              "      <th>state</th>\n",
              "      <th>label</th>\n",
              "      <th>attack_cat</th>\n",
              "    </tr>\n",
              "  </thead>\n",
              "  <tbody>\n",
              "    <tr>\n",
              "      <th>0</th>\n",
              "      <td>0.000094</td>\n",
              "      <td>0.000000</td>\n",
              "      <td>0.000033</td>\n",
              "      <td>0.000000</td>\n",
              "      <td>0.090909</td>\n",
              "      <td>0.996078</td>\n",
              "      <td>0.000000</td>\n",
              "      <td>0.034238</td>\n",
              "      <td>0.000000</td>\n",
              "      <td>0.000000</td>\n",
              "      <td>...</td>\n",
              "      <td>0.0</td>\n",
              "      <td>0.000000</td>\n",
              "      <td>0.016393</td>\n",
              "      <td>0.0</td>\n",
              "      <td>0.000011</td>\n",
              "      <td>117</td>\n",
              "      <td>0</td>\n",
              "      <td>4</td>\n",
              "      <td>0</td>\n",
              "      <td>Normal</td>\n",
              "    </tr>\n",
              "    <tr>\n",
              "      <th>1</th>\n",
              "      <td>0.000094</td>\n",
              "      <td>0.000000</td>\n",
              "      <td>0.000121</td>\n",
              "      <td>0.000000</td>\n",
              "      <td>0.125000</td>\n",
              "      <td>0.996078</td>\n",
              "      <td>0.000000</td>\n",
              "      <td>0.167236</td>\n",
              "      <td>0.000000</td>\n",
              "      <td>0.000000</td>\n",
              "      <td>...</td>\n",
              "      <td>0.0</td>\n",
              "      <td>0.000000</td>\n",
              "      <td>0.016393</td>\n",
              "      <td>0.0</td>\n",
              "      <td>0.000008</td>\n",
              "      <td>117</td>\n",
              "      <td>0</td>\n",
              "      <td>4</td>\n",
              "      <td>0</td>\n",
              "      <td>Normal</td>\n",
              "    </tr>\n",
              "    <tr>\n",
              "      <th>2</th>\n",
              "      <td>0.000094</td>\n",
              "      <td>0.000000</td>\n",
              "      <td>0.000073</td>\n",
              "      <td>0.000000</td>\n",
              "      <td>0.200000</td>\n",
              "      <td>0.996078</td>\n",
              "      <td>0.000000</td>\n",
              "      <td>0.162187</td>\n",
              "      <td>0.000000</td>\n",
              "      <td>0.000000</td>\n",
              "      <td>...</td>\n",
              "      <td>0.0</td>\n",
              "      <td>0.000000</td>\n",
              "      <td>0.032787</td>\n",
              "      <td>0.0</td>\n",
              "      <td>0.000005</td>\n",
              "      <td>117</td>\n",
              "      <td>0</td>\n",
              "      <td>4</td>\n",
              "      <td>0</td>\n",
              "      <td>Normal</td>\n",
              "    </tr>\n",
              "    <tr>\n",
              "      <th>3</th>\n",
              "      <td>0.000094</td>\n",
              "      <td>0.000000</td>\n",
              "      <td>0.000061</td>\n",
              "      <td>0.000000</td>\n",
              "      <td>0.166667</td>\n",
              "      <td>0.996078</td>\n",
              "      <td>0.000000</td>\n",
              "      <td>0.113895</td>\n",
              "      <td>0.000000</td>\n",
              "      <td>0.000000</td>\n",
              "      <td>...</td>\n",
              "      <td>0.0</td>\n",
              "      <td>0.016949</td>\n",
              "      <td>0.032787</td>\n",
              "      <td>0.0</td>\n",
              "      <td>0.000006</td>\n",
              "      <td>117</td>\n",
              "      <td>0</td>\n",
              "      <td>4</td>\n",
              "      <td>0</td>\n",
              "      <td>Normal</td>\n",
              "    </tr>\n",
              "    <tr>\n",
              "      <th>4</th>\n",
              "      <td>0.000094</td>\n",
              "      <td>0.000000</td>\n",
              "      <td>0.000146</td>\n",
              "      <td>0.000000</td>\n",
              "      <td>0.100000</td>\n",
              "      <td>0.996078</td>\n",
              "      <td>0.000000</td>\n",
              "      <td>0.161427</td>\n",
              "      <td>0.000000</td>\n",
              "      <td>0.000000</td>\n",
              "      <td>...</td>\n",
              "      <td>0.0</td>\n",
              "      <td>0.016949</td>\n",
              "      <td>0.032787</td>\n",
              "      <td>0.0</td>\n",
              "      <td>0.000010</td>\n",
              "      <td>117</td>\n",
              "      <td>0</td>\n",
              "      <td>4</td>\n",
              "      <td>0</td>\n",
              "      <td>Normal</td>\n",
              "    </tr>\n",
              "    <tr>\n",
              "      <th>...</th>\n",
              "      <td>...</td>\n",
              "      <td>...</td>\n",
              "      <td>...</td>\n",
              "      <td>...</td>\n",
              "      <td>...</td>\n",
              "      <td>...</td>\n",
              "      <td>...</td>\n",
              "      <td>...</td>\n",
              "      <td>...</td>\n",
              "      <td>...</td>\n",
              "      <td>...</td>\n",
              "      <td>...</td>\n",
              "      <td>...</td>\n",
              "      <td>...</td>\n",
              "      <td>...</td>\n",
              "      <td>...</td>\n",
              "      <td>...</td>\n",
              "      <td>...</td>\n",
              "      <td>...</td>\n",
              "      <td>...</td>\n",
              "      <td>...</td>\n",
              "    </tr>\n",
              "    <tr>\n",
              "      <th>82327</th>\n",
              "      <td>0.000094</td>\n",
              "      <td>0.000000</td>\n",
              "      <td>0.000006</td>\n",
              "      <td>0.000000</td>\n",
              "      <td>0.200000</td>\n",
              "      <td>0.996078</td>\n",
              "      <td>0.000000</td>\n",
              "      <td>0.015793</td>\n",
              "      <td>0.000000</td>\n",
              "      <td>0.000000</td>\n",
              "      <td>...</td>\n",
              "      <td>0.0</td>\n",
              "      <td>0.016949</td>\n",
              "      <td>0.000000</td>\n",
              "      <td>0.0</td>\n",
              "      <td>0.000005</td>\n",
              "      <td>117</td>\n",
              "      <td>0</td>\n",
              "      <td>4</td>\n",
              "      <td>0</td>\n",
              "      <td>Normal</td>\n",
              "    </tr>\n",
              "    <tr>\n",
              "      <th>82328</th>\n",
              "      <td>0.001785</td>\n",
              "      <td>0.000726</td>\n",
              "      <td>0.001257</td>\n",
              "      <td>0.000024</td>\n",
              "      <td>0.000024</td>\n",
              "      <td>0.996078</td>\n",
              "      <td>0.996047</td>\n",
              "      <td>0.000024</td>\n",
              "      <td>0.000108</td>\n",
              "      <td>0.001316</td>\n",
              "      <td>...</td>\n",
              "      <td>0.0</td>\n",
              "      <td>0.033898</td>\n",
              "      <td>0.016393</td>\n",
              "      <td>0.0</td>\n",
              "      <td>1.106101</td>\n",
              "      <td>111</td>\n",
              "      <td>0</td>\n",
              "      <td>3</td>\n",
              "      <td>0</td>\n",
              "      <td>Normal</td>\n",
              "    </tr>\n",
              "    <tr>\n",
              "      <th>82329</th>\n",
              "      <td>0.000000</td>\n",
              "      <td>0.000000</td>\n",
              "      <td>0.000002</td>\n",
              "      <td>0.000000</td>\n",
              "      <td>0.000000</td>\n",
              "      <td>0.000000</td>\n",
              "      <td>0.000000</td>\n",
              "      <td>0.000000</td>\n",
              "      <td>0.000000</td>\n",
              "      <td>0.000000</td>\n",
              "      <td>...</td>\n",
              "      <td>0.0</td>\n",
              "      <td>0.000000</td>\n",
              "      <td>0.000000</td>\n",
              "      <td>1.0</td>\n",
              "      <td>0.000000</td>\n",
              "      <td>6</td>\n",
              "      <td>0</td>\n",
              "      <td>4</td>\n",
              "      <td>0</td>\n",
              "      <td>Normal</td>\n",
              "    </tr>\n",
              "    <tr>\n",
              "      <th>82330</th>\n",
              "      <td>0.000000</td>\n",
              "      <td>0.000000</td>\n",
              "      <td>0.000002</td>\n",
              "      <td>0.000000</td>\n",
              "      <td>0.000000</td>\n",
              "      <td>0.000000</td>\n",
              "      <td>0.000000</td>\n",
              "      <td>0.000000</td>\n",
              "      <td>0.000000</td>\n",
              "      <td>0.000000</td>\n",
              "      <td>...</td>\n",
              "      <td>0.0</td>\n",
              "      <td>0.000000</td>\n",
              "      <td>0.000000</td>\n",
              "      <td>1.0</td>\n",
              "      <td>0.000000</td>\n",
              "      <td>6</td>\n",
              "      <td>0</td>\n",
              "      <td>4</td>\n",
              "      <td>0</td>\n",
              "      <td>Normal</td>\n",
              "    </tr>\n",
              "    <tr>\n",
              "      <th>82331</th>\n",
              "      <td>0.000094</td>\n",
              "      <td>0.000000</td>\n",
              "      <td>0.000006</td>\n",
              "      <td>0.000000</td>\n",
              "      <td>0.111111</td>\n",
              "      <td>0.996078</td>\n",
              "      <td>0.000000</td>\n",
              "      <td>0.008774</td>\n",
              "      <td>0.000000</td>\n",
              "      <td>0.000000</td>\n",
              "      <td>...</td>\n",
              "      <td>0.0</td>\n",
              "      <td>0.000000</td>\n",
              "      <td>0.000000</td>\n",
              "      <td>0.0</td>\n",
              "      <td>0.000009</td>\n",
              "      <td>117</td>\n",
              "      <td>0</td>\n",
              "      <td>4</td>\n",
              "      <td>0</td>\n",
              "      <td>Normal</td>\n",
              "    </tr>\n",
              "  </tbody>\n",
              "</table>\n",
              "<p>82332 rows × 44 columns</p>\n",
              "</div>\n",
              "    <div class=\"colab-df-buttons\">\n",
              "\n",
              "  <div class=\"colab-df-container\">\n",
              "    <button class=\"colab-df-convert\" onclick=\"convertToInteractive('df-0fed0261-55cd-41ae-b077-0aea9a2825da')\"\n",
              "            title=\"Convert this dataframe to an interactive table.\"\n",
              "            style=\"display:none;\">\n",
              "\n",
              "  <svg xmlns=\"http://www.w3.org/2000/svg\" height=\"24px\" viewBox=\"0 -960 960 960\">\n",
              "    <path d=\"M120-120v-720h720v720H120Zm60-500h600v-160H180v160Zm220 220h160v-160H400v160Zm0 220h160v-160H400v160ZM180-400h160v-160H180v160Zm440 0h160v-160H620v160ZM180-180h160v-160H180v160Zm440 0h160v-160H620v160Z\"/>\n",
              "  </svg>\n",
              "    </button>\n",
              "\n",
              "  <style>\n",
              "    .colab-df-container {\n",
              "      display:flex;\n",
              "      gap: 12px;\n",
              "    }\n",
              "\n",
              "    .colab-df-convert {\n",
              "      background-color: #E8F0FE;\n",
              "      border: none;\n",
              "      border-radius: 50%;\n",
              "      cursor: pointer;\n",
              "      display: none;\n",
              "      fill: #1967D2;\n",
              "      height: 32px;\n",
              "      padding: 0 0 0 0;\n",
              "      width: 32px;\n",
              "    }\n",
              "\n",
              "    .colab-df-convert:hover {\n",
              "      background-color: #E2EBFA;\n",
              "      box-shadow: 0px 1px 2px rgba(60, 64, 67, 0.3), 0px 1px 3px 1px rgba(60, 64, 67, 0.15);\n",
              "      fill: #174EA6;\n",
              "    }\n",
              "\n",
              "    .colab-df-buttons div {\n",
              "      margin-bottom: 4px;\n",
              "    }\n",
              "\n",
              "    [theme=dark] .colab-df-convert {\n",
              "      background-color: #3B4455;\n",
              "      fill: #D2E3FC;\n",
              "    }\n",
              "\n",
              "    [theme=dark] .colab-df-convert:hover {\n",
              "      background-color: #434B5C;\n",
              "      box-shadow: 0px 1px 3px 1px rgba(0, 0, 0, 0.15);\n",
              "      filter: drop-shadow(0px 1px 2px rgba(0, 0, 0, 0.3));\n",
              "      fill: #FFFFFF;\n",
              "    }\n",
              "  </style>\n",
              "\n",
              "    <script>\n",
              "      const buttonEl =\n",
              "        document.querySelector('#df-0fed0261-55cd-41ae-b077-0aea9a2825da button.colab-df-convert');\n",
              "      buttonEl.style.display =\n",
              "        google.colab.kernel.accessAllowed ? 'block' : 'none';\n",
              "\n",
              "      async function convertToInteractive(key) {\n",
              "        const element = document.querySelector('#df-0fed0261-55cd-41ae-b077-0aea9a2825da');\n",
              "        const dataTable =\n",
              "          await google.colab.kernel.invokeFunction('convertToInteractive',\n",
              "                                                    [key], {});\n",
              "        if (!dataTable) return;\n",
              "\n",
              "        const docLinkHtml = 'Like what you see? Visit the ' +\n",
              "          '<a target=\"_blank\" href=https://colab.research.google.com/notebooks/data_table.ipynb>data table notebook</a>'\n",
              "          + ' to learn more about interactive tables.';\n",
              "        element.innerHTML = '';\n",
              "        dataTable['output_type'] = 'display_data';\n",
              "        await google.colab.output.renderOutput(dataTable, element);\n",
              "        const docLink = document.createElement('div');\n",
              "        docLink.innerHTML = docLinkHtml;\n",
              "        element.appendChild(docLink);\n",
              "      }\n",
              "    </script>\n",
              "  </div>\n",
              "\n",
              "\n",
              "<div id=\"df-0d2ced8b-70ba-4a3e-b787-94b01d269a27\">\n",
              "  <button class=\"colab-df-quickchart\" onclick=\"quickchart('df-0d2ced8b-70ba-4a3e-b787-94b01d269a27')\"\n",
              "            title=\"Suggest charts\"\n",
              "            style=\"display:none;\">\n",
              "\n",
              "<svg xmlns=\"http://www.w3.org/2000/svg\" height=\"24px\"viewBox=\"0 0 24 24\"\n",
              "     width=\"24px\">\n",
              "    <g>\n",
              "        <path d=\"M19 3H5c-1.1 0-2 .9-2 2v14c0 1.1.9 2 2 2h14c1.1 0 2-.9 2-2V5c0-1.1-.9-2-2-2zM9 17H7v-7h2v7zm4 0h-2V7h2v10zm4 0h-2v-4h2v4z\"/>\n",
              "    </g>\n",
              "</svg>\n",
              "  </button>\n",
              "\n",
              "<style>\n",
              "  .colab-df-quickchart {\n",
              "      --bg-color: #E8F0FE;\n",
              "      --fill-color: #1967D2;\n",
              "      --hover-bg-color: #E2EBFA;\n",
              "      --hover-fill-color: #174EA6;\n",
              "      --disabled-fill-color: #AAA;\n",
              "      --disabled-bg-color: #DDD;\n",
              "  }\n",
              "\n",
              "  [theme=dark] .colab-df-quickchart {\n",
              "      --bg-color: #3B4455;\n",
              "      --fill-color: #D2E3FC;\n",
              "      --hover-bg-color: #434B5C;\n",
              "      --hover-fill-color: #FFFFFF;\n",
              "      --disabled-bg-color: #3B4455;\n",
              "      --disabled-fill-color: #666;\n",
              "  }\n",
              "\n",
              "  .colab-df-quickchart {\n",
              "    background-color: var(--bg-color);\n",
              "    border: none;\n",
              "    border-radius: 50%;\n",
              "    cursor: pointer;\n",
              "    display: none;\n",
              "    fill: var(--fill-color);\n",
              "    height: 32px;\n",
              "    padding: 0;\n",
              "    width: 32px;\n",
              "  }\n",
              "\n",
              "  .colab-df-quickchart:hover {\n",
              "    background-color: var(--hover-bg-color);\n",
              "    box-shadow: 0 1px 2px rgba(60, 64, 67, 0.3), 0 1px 3px 1px rgba(60, 64, 67, 0.15);\n",
              "    fill: var(--button-hover-fill-color);\n",
              "  }\n",
              "\n",
              "  .colab-df-quickchart-complete:disabled,\n",
              "  .colab-df-quickchart-complete:disabled:hover {\n",
              "    background-color: var(--disabled-bg-color);\n",
              "    fill: var(--disabled-fill-color);\n",
              "    box-shadow: none;\n",
              "  }\n",
              "\n",
              "  .colab-df-spinner {\n",
              "    border: 2px solid var(--fill-color);\n",
              "    border-color: transparent;\n",
              "    border-bottom-color: var(--fill-color);\n",
              "    animation:\n",
              "      spin 1s steps(1) infinite;\n",
              "  }\n",
              "\n",
              "  @keyframes spin {\n",
              "    0% {\n",
              "      border-color: transparent;\n",
              "      border-bottom-color: var(--fill-color);\n",
              "      border-left-color: var(--fill-color);\n",
              "    }\n",
              "    20% {\n",
              "      border-color: transparent;\n",
              "      border-left-color: var(--fill-color);\n",
              "      border-top-color: var(--fill-color);\n",
              "    }\n",
              "    30% {\n",
              "      border-color: transparent;\n",
              "      border-left-color: var(--fill-color);\n",
              "      border-top-color: var(--fill-color);\n",
              "      border-right-color: var(--fill-color);\n",
              "    }\n",
              "    40% {\n",
              "      border-color: transparent;\n",
              "      border-right-color: var(--fill-color);\n",
              "      border-top-color: var(--fill-color);\n",
              "    }\n",
              "    60% {\n",
              "      border-color: transparent;\n",
              "      border-right-color: var(--fill-color);\n",
              "    }\n",
              "    80% {\n",
              "      border-color: transparent;\n",
              "      border-right-color: var(--fill-color);\n",
              "      border-bottom-color: var(--fill-color);\n",
              "    }\n",
              "    90% {\n",
              "      border-color: transparent;\n",
              "      border-bottom-color: var(--fill-color);\n",
              "    }\n",
              "  }\n",
              "</style>\n",
              "\n",
              "  <script>\n",
              "    async function quickchart(key) {\n",
              "      const quickchartButtonEl =\n",
              "        document.querySelector('#' + key + ' button');\n",
              "      quickchartButtonEl.disabled = true;  // To prevent multiple clicks.\n",
              "      quickchartButtonEl.classList.add('colab-df-spinner');\n",
              "      try {\n",
              "        const charts = await google.colab.kernel.invokeFunction(\n",
              "            'suggestCharts', [key], {});\n",
              "      } catch (error) {\n",
              "        console.error('Error during call to suggestCharts:', error);\n",
              "      }\n",
              "      quickchartButtonEl.classList.remove('colab-df-spinner');\n",
              "      quickchartButtonEl.classList.add('colab-df-quickchart-complete');\n",
              "    }\n",
              "    (() => {\n",
              "      let quickchartButtonEl =\n",
              "        document.querySelector('#df-0d2ced8b-70ba-4a3e-b787-94b01d269a27 button');\n",
              "      quickchartButtonEl.style.display =\n",
              "        google.colab.kernel.accessAllowed ? 'block' : 'none';\n",
              "    })();\n",
              "  </script>\n",
              "</div>\n",
              "\n",
              "  <div id=\"id_72c9101b-23fb-4744-a0d8-d39510a9a0de\">\n",
              "    <style>\n",
              "      .colab-df-generate {\n",
              "        background-color: #E8F0FE;\n",
              "        border: none;\n",
              "        border-radius: 50%;\n",
              "        cursor: pointer;\n",
              "        display: none;\n",
              "        fill: #1967D2;\n",
              "        height: 32px;\n",
              "        padding: 0 0 0 0;\n",
              "        width: 32px;\n",
              "      }\n",
              "\n",
              "      .colab-df-generate:hover {\n",
              "        background-color: #E2EBFA;\n",
              "        box-shadow: 0px 1px 2px rgba(60, 64, 67, 0.3), 0px 1px 3px 1px rgba(60, 64, 67, 0.15);\n",
              "        fill: #174EA6;\n",
              "      }\n",
              "\n",
              "      [theme=dark] .colab-df-generate {\n",
              "        background-color: #3B4455;\n",
              "        fill: #D2E3FC;\n",
              "      }\n",
              "\n",
              "      [theme=dark] .colab-df-generate:hover {\n",
              "        background-color: #434B5C;\n",
              "        box-shadow: 0px 1px 3px 1px rgba(0, 0, 0, 0.15);\n",
              "        filter: drop-shadow(0px 1px 2px rgba(0, 0, 0, 0.3));\n",
              "        fill: #FFFFFF;\n",
              "      }\n",
              "    </style>\n",
              "    <button class=\"colab-df-generate\" onclick=\"generateWithVariable('df')\"\n",
              "            title=\"Generate code using this dataframe.\"\n",
              "            style=\"display:none;\">\n",
              "\n",
              "  <svg xmlns=\"http://www.w3.org/2000/svg\" height=\"24px\"viewBox=\"0 0 24 24\"\n",
              "       width=\"24px\">\n",
              "    <path d=\"M7,19H8.4L18.45,9,17,7.55,7,17.6ZM5,21V16.75L18.45,3.32a2,2,0,0,1,2.83,0l1.4,1.43a1.91,1.91,0,0,1,.58,1.4,1.91,1.91,0,0,1-.58,1.4L9.25,21ZM18.45,9,17,7.55Zm-12,3A5.31,5.31,0,0,0,4.9,8.1,5.31,5.31,0,0,0,1,6.5,5.31,5.31,0,0,0,4.9,4.9,5.31,5.31,0,0,0,6.5,1,5.31,5.31,0,0,0,8.1,4.9,5.31,5.31,0,0,0,12,6.5,5.46,5.46,0,0,0,6.5,12Z\"/>\n",
              "  </svg>\n",
              "    </button>\n",
              "    <script>\n",
              "      (() => {\n",
              "      const buttonEl =\n",
              "        document.querySelector('#id_72c9101b-23fb-4744-a0d8-d39510a9a0de button.colab-df-generate');\n",
              "      buttonEl.style.display =\n",
              "        google.colab.kernel.accessAllowed ? 'block' : 'none';\n",
              "\n",
              "      buttonEl.onclick = () => {\n",
              "        google.colab.notebook.generateWithVariable('df');\n",
              "      }\n",
              "      })();\n",
              "    </script>\n",
              "  </div>\n",
              "\n",
              "    </div>\n",
              "  </div>\n"
            ]
          },
          "metadata": {},
          "execution_count": 19
        }
      ]
    },
    {
      "source": [
        "from matplotlib import pyplot as plt\n",
        "df['spkts'].plot(kind='line', figsize=(8, 4), title='spkts')\n",
        "plt.gca().spines[['top', 'right']].set_visible(False)"
      ],
      "cell_type": "code",
      "metadata": {
        "colab": {
          "base_uri": "https://localhost:8080/",
          "height": 391
        },
        "id": "2vRnJlRN35Q4",
        "outputId": "0b15de21-a4ef-467e-9a0e-c944fcfdbd09"
      },
      "execution_count": 20,
      "outputs": [
        {
          "output_type": "display_data",
          "data": {
            "text/plain": [
              "<Figure size 800x400 with 1 Axes>"
            ],
            "image/png": "[encoded data removed]"
          },
          "metadata": {}
        }
      ]
    },
    {
      "cell_type": "code",
      "source": [],
      "metadata": {
        "id": "8dP-_FRG78YA"
      },
      "execution_count": null,
      "outputs": []
    },
    {
      "cell_type": "code",
      "source": [
        "\n",
        "import numpy as np\n",
        "\n",
        "plt.imshow(df, cmap=\"hot\")  # Choose a colormap\n",
        "plt.colorbar()\n",
        "plt.show()\n"
      ],
      "metadata": {
        "colab": {
          "base_uri": "https://localhost:8080/",
          "height": 435
        },
        "id": "4dW-S1T74ERv",
        "outputId": "3e41b76e-eb85-497c-9870-5d1e96a34547"
      },
      "execution_count": 23,
      "outputs": [
        {
          "output_type": "display_data",
          "data": {
            "text/plain": [
              "<Figure size 640x480 with 2 Axes>"
            ],
            "image/png": "[encoded data removed]"
          },
          "metadata": {}
        }
      ]
    },
    {
      "cell_type": "code",
      "source": [],
      "metadata": {
        "id": "EMFsxzsR56F8"
      },
      "execution_count": 21,
      "outputs": []
    },
    {
      "cell_type": "code",
      "source": [],
      "metadata": {
        "id": "CZrHfump4EVI"
      },
      "execution_count": 21,
      "outputs": []
    },
    {
      "cell_type": "code",
      "source": [],
      "metadata": {
        "id": "_N6kIwHx4EYH"
      },
      "execution_count": 21,
      "outputs": []
    },
    {
      "cell_type": "code",
      "source": [],
      "metadata": {
        "id": "UOvI68vq4EbC"
      },
      "execution_count": 21,
      "outputs": []
    },
    {
      "cell_type": "code",
      "source": [],
      "metadata": {
        "id": "FULAtsqc4Ed1"
      },
      "execution_count": 21,
      "outputs": []
    },
    {
      "cell_type": "code",
      "source": [],
      "metadata": {
        "id": "TSv9cIQO4Egi"
      },
      "execution_count": 21,
      "outputs": []
    },
    {
      "cell_type": "code",
      "source": [],
      "metadata": {
        "id": "y4eMl6N_4EjS"
      },
      "execution_count": 21,
      "outputs": []
    }
  ]
}